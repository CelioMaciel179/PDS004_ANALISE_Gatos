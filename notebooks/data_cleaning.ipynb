{
 "cells": [
  {
   "cell_type": "markdown",
   "id": "f3552eb5-6933-44e0-b235-5e03841132c0",
   "metadata": {},
   "source": [
    "# Sobre"
   ]
  },
  {
   "cell_type": "markdown",
   "id": "6c1419a6-2532-41f3-8548-f168be3100d5",
   "metadata": {},
   "source": [
    "Este conjunto de dados fornece informações detalhadas sobre 1000 gatos, oferecendo uma visão abrangente das várias características felinas. Os dados incluem múltiplos atributos, como raça, idade, peso, cor e gênero. Foram meticulosamente curados para representar uma ampla gama de raças de gatos e diferenças individuais.\r\n",
    "\r\n",
    "- **Raça**: Esta coluna especifica a raça de cada gato, incluindo raças populares como Siamês, Maine Coon, Persa, Bengal e mais.\r\n",
    "- **Idade (Anos)**: Indica a idade dos gatos em anos, fornecendo uma visão tanto de filhotes jovens quanto de adultos maduros.\r\n",
    "- **Peso (kg)**: Registra o peso de cada gato em quilogramas, oferecendo uma visão das variações de tamanho entre diferentes raças e idades.\r\n",
    "- **Cor**: Descreve a cor do pelo dos gatos, que pode variar de cores sólidas como preto e branco a padrões mais únicos como malhado e tigrado.\r\n",
    "- **Gênero**: Denota o gênero de cada gato, categorizado como Macho ou Fêmea.\r\n"
   ]
  },
  {
   "cell_type": "markdown",
   "id": "7260f6ee-9a58-42ee-9b1f-0d9c6a174e84",
   "metadata": {},
   "source": [
    "# Import"
   ]
  },
  {
   "cell_type": "code",
   "execution_count": 1,
   "id": "abd9351a-a287-4852-a027-b04c139060a6",
   "metadata": {},
   "outputs": [],
   "source": [
    "import pandas as pd"
   ]
  },
  {
   "cell_type": "markdown",
   "id": "43a01aaa-036e-4fe7-a39a-6260941d32d7",
   "metadata": {},
   "source": [
    "# Limpeza e preparo dos dados"
   ]
  },
  {
   "cell_type": "code",
   "execution_count": 2,
   "id": "031be99e-4a52-4fb4-b95d-ebcd623751b1",
   "metadata": {},
   "outputs": [
    {
     "data": {
      "text/html": [
       "<div>\n",
       "<style scoped>\n",
       "    .dataframe tbody tr th:only-of-type {\n",
       "        vertical-align: middle;\n",
       "    }\n",
       "\n",
       "    .dataframe tbody tr th {\n",
       "        vertical-align: top;\n",
       "    }\n",
       "\n",
       "    .dataframe thead th {\n",
       "        text-align: right;\n",
       "    }\n",
       "</style>\n",
       "<table border=\"1\" class=\"dataframe\">\n",
       "  <thead>\n",
       "    <tr style=\"text-align: right;\">\n",
       "      <th></th>\n",
       "      <th>Breed</th>\n",
       "      <th>Age (Years)</th>\n",
       "      <th>Weight (kg)</th>\n",
       "      <th>Color</th>\n",
       "      <th>Gender</th>\n",
       "    </tr>\n",
       "  </thead>\n",
       "  <tbody>\n",
       "    <tr>\n",
       "      <th>0</th>\n",
       "      <td>Russian Blue</td>\n",
       "      <td>19</td>\n",
       "      <td>7</td>\n",
       "      <td>Tortoiseshell</td>\n",
       "      <td>Female</td>\n",
       "    </tr>\n",
       "    <tr>\n",
       "      <th>1</th>\n",
       "      <td>Norwegian Forest</td>\n",
       "      <td>19</td>\n",
       "      <td>9</td>\n",
       "      <td>Tortoiseshell</td>\n",
       "      <td>Female</td>\n",
       "    </tr>\n",
       "    <tr>\n",
       "      <th>2</th>\n",
       "      <td>Chartreux</td>\n",
       "      <td>3</td>\n",
       "      <td>3</td>\n",
       "      <td>Brown</td>\n",
       "      <td>Female</td>\n",
       "    </tr>\n",
       "    <tr>\n",
       "      <th>3</th>\n",
       "      <td>Persian</td>\n",
       "      <td>13</td>\n",
       "      <td>6</td>\n",
       "      <td>Sable</td>\n",
       "      <td>Female</td>\n",
       "    </tr>\n",
       "    <tr>\n",
       "      <th>4</th>\n",
       "      <td>Ragdoll</td>\n",
       "      <td>10</td>\n",
       "      <td>8</td>\n",
       "      <td>Tabby</td>\n",
       "      <td>Male</td>\n",
       "    </tr>\n",
       "  </tbody>\n",
       "</table>\n",
       "</div>"
      ],
      "text/plain": [
       "              Breed  Age (Years)  Weight (kg)          Color  Gender\n",
       "0      Russian Blue           19            7  Tortoiseshell  Female\n",
       "1  Norwegian Forest           19            9  Tortoiseshell  Female\n",
       "2         Chartreux            3            3          Brown  Female\n",
       "3           Persian           13            6          Sable  Female\n",
       "4           Ragdoll           10            8          Tabby    Male"
      ]
     },
     "execution_count": 2,
     "metadata": {},
     "output_type": "execute_result"
    }
   ],
   "source": [
    "df = pd.read_csv('https://raw.githubusercontent.com/CelioMaciel179/eda_cats/main/datasets/cats_dataset.csv')\n",
    "df.head()"
   ]
  },
  {
   "cell_type": "code",
   "execution_count": 3,
   "id": "d17b8a38-03cf-45a0-b851-d38ddaa26d46",
   "metadata": {},
   "outputs": [
    {
     "name": "stdout",
     "output_type": "stream",
     "text": [
      "<class 'pandas.core.frame.DataFrame'>\n",
      "RangeIndex: 1000 entries, 0 to 999\n",
      "Data columns (total 5 columns):\n",
      " #   Column       Non-Null Count  Dtype \n",
      "---  ------       --------------  ----- \n",
      " 0   Breed        1000 non-null   object\n",
      " 1   Age (Years)  1000 non-null   int64 \n",
      " 2   Weight (kg)  1000 non-null   int64 \n",
      " 3   Color        1000 non-null   object\n",
      " 4   Gender       1000 non-null   object\n",
      "dtypes: int64(2), object(3)\n",
      "memory usage: 39.2+ KB\n"
     ]
    }
   ],
   "source": [
    "df.info()"
   ]
  },
  {
   "cell_type": "markdown",
   "id": "6d4b009b-b038-4dbf-a48f-7953f7d123e5",
   "metadata": {},
   "source": [
    "## Verificando duplicatas"
   ]
  },
  {
   "cell_type": "code",
   "execution_count": 4,
   "id": "57122a73-4c74-41b6-a6a6-b1fbda92845d",
   "metadata": {},
   "outputs": [
    {
     "data": {
      "text/plain": [
       "np.int64(5)"
      ]
     },
     "execution_count": 4,
     "metadata": {},
     "output_type": "execute_result"
    }
   ],
   "source": [
    "df.duplicated().sum()"
   ]
  },
  {
   "cell_type": "code",
   "execution_count": 5,
   "id": "f3069f9f-fc68-44aa-973f-0ec04f10de24",
   "metadata": {},
   "outputs": [
    {
     "data": {
      "text/html": [
       "<div>\n",
       "<style scoped>\n",
       "    .dataframe tbody tr th:only-of-type {\n",
       "        vertical-align: middle;\n",
       "    }\n",
       "\n",
       "    .dataframe tbody tr th {\n",
       "        vertical-align: top;\n",
       "    }\n",
       "\n",
       "    .dataframe thead th {\n",
       "        text-align: right;\n",
       "    }\n",
       "</style>\n",
       "<table border=\"1\" class=\"dataframe\">\n",
       "  <thead>\n",
       "    <tr style=\"text-align: right;\">\n",
       "      <th></th>\n",
       "      <th>Breed</th>\n",
       "      <th>Age (Years)</th>\n",
       "      <th>Weight (kg)</th>\n",
       "      <th>Color</th>\n",
       "      <th>Gender</th>\n",
       "    </tr>\n",
       "  </thead>\n",
       "  <tbody>\n",
       "    <tr>\n",
       "      <th>3</th>\n",
       "      <td>Persian</td>\n",
       "      <td>13</td>\n",
       "      <td>6</td>\n",
       "      <td>Sable</td>\n",
       "      <td>Female</td>\n",
       "    </tr>\n",
       "    <tr>\n",
       "      <th>29</th>\n",
       "      <td>Birman</td>\n",
       "      <td>17</td>\n",
       "      <td>7</td>\n",
       "      <td>Pointed</td>\n",
       "      <td>Female</td>\n",
       "    </tr>\n",
       "    <tr>\n",
       "      <th>69</th>\n",
       "      <td>Birman</td>\n",
       "      <td>17</td>\n",
       "      <td>7</td>\n",
       "      <td>Pointed</td>\n",
       "      <td>Female</td>\n",
       "    </tr>\n",
       "    <tr>\n",
       "      <th>178</th>\n",
       "      <td>Egyptian Mau</td>\n",
       "      <td>2</td>\n",
       "      <td>9</td>\n",
       "      <td>Gray</td>\n",
       "      <td>Male</td>\n",
       "    </tr>\n",
       "    <tr>\n",
       "      <th>233</th>\n",
       "      <td>Persian</td>\n",
       "      <td>13</td>\n",
       "      <td>6</td>\n",
       "      <td>Sable</td>\n",
       "      <td>Female</td>\n",
       "    </tr>\n",
       "    <tr>\n",
       "      <th>287</th>\n",
       "      <td>Ocicat</td>\n",
       "      <td>14</td>\n",
       "      <td>8</td>\n",
       "      <td>Cream</td>\n",
       "      <td>Male</td>\n",
       "    </tr>\n",
       "    <tr>\n",
       "      <th>405</th>\n",
       "      <td>Egyptian Mau</td>\n",
       "      <td>2</td>\n",
       "      <td>9</td>\n",
       "      <td>Gray</td>\n",
       "      <td>Male</td>\n",
       "    </tr>\n",
       "    <tr>\n",
       "      <th>436</th>\n",
       "      <td>Bengal</td>\n",
       "      <td>18</td>\n",
       "      <td>5</td>\n",
       "      <td>Brown</td>\n",
       "      <td>Female</td>\n",
       "    </tr>\n",
       "    <tr>\n",
       "      <th>653</th>\n",
       "      <td>Ocicat</td>\n",
       "      <td>14</td>\n",
       "      <td>8</td>\n",
       "      <td>Cream</td>\n",
       "      <td>Male</td>\n",
       "    </tr>\n",
       "    <tr>\n",
       "      <th>834</th>\n",
       "      <td>Bengal</td>\n",
       "      <td>18</td>\n",
       "      <td>5</td>\n",
       "      <td>Brown</td>\n",
       "      <td>Female</td>\n",
       "    </tr>\n",
       "  </tbody>\n",
       "</table>\n",
       "</div>"
      ],
      "text/plain": [
       "            Breed  Age (Years)  Weight (kg)    Color  Gender\n",
       "3         Persian           13            6    Sable  Female\n",
       "29         Birman           17            7  Pointed  Female\n",
       "69         Birman           17            7  Pointed  Female\n",
       "178  Egyptian Mau            2            9     Gray    Male\n",
       "233       Persian           13            6    Sable  Female\n",
       "287        Ocicat           14            8    Cream    Male\n",
       "405  Egyptian Mau            2            9     Gray    Male\n",
       "436        Bengal           18            5    Brown  Female\n",
       "653        Ocicat           14            8    Cream    Male\n",
       "834        Bengal           18            5    Brown  Female"
      ]
     },
     "execution_count": 5,
     "metadata": {},
     "output_type": "execute_result"
    }
   ],
   "source": [
    "duplicatas = df[df.duplicated(keep=False)]\n",
    "duplicatas"
   ]
  },
  {
   "cell_type": "code",
   "execution_count": 6,
   "id": "2ea2b7ec-503b-413e-b7c2-816c1b9eb733",
   "metadata": {},
   "outputs": [
    {
     "data": {
      "text/html": [
       "<div>\n",
       "<style scoped>\n",
       "    .dataframe tbody tr th:only-of-type {\n",
       "        vertical-align: middle;\n",
       "    }\n",
       "\n",
       "    .dataframe tbody tr th {\n",
       "        vertical-align: top;\n",
       "    }\n",
       "\n",
       "    .dataframe thead th {\n",
       "        text-align: right;\n",
       "    }\n",
       "</style>\n",
       "<table border=\"1\" class=\"dataframe\">\n",
       "  <thead>\n",
       "    <tr style=\"text-align: right;\">\n",
       "      <th></th>\n",
       "      <th>Breed</th>\n",
       "      <th>Age (Years)</th>\n",
       "      <th>Weight (kg)</th>\n",
       "      <th>Color</th>\n",
       "      <th>Gender</th>\n",
       "    </tr>\n",
       "  </thead>\n",
       "  <tbody>\n",
       "    <tr>\n",
       "      <th>0</th>\n",
       "      <td>Russian Blue</td>\n",
       "      <td>19</td>\n",
       "      <td>7</td>\n",
       "      <td>Tortoiseshell</td>\n",
       "      <td>Female</td>\n",
       "    </tr>\n",
       "    <tr>\n",
       "      <th>1</th>\n",
       "      <td>Norwegian Forest</td>\n",
       "      <td>19</td>\n",
       "      <td>9</td>\n",
       "      <td>Tortoiseshell</td>\n",
       "      <td>Female</td>\n",
       "    </tr>\n",
       "    <tr>\n",
       "      <th>2</th>\n",
       "      <td>Chartreux</td>\n",
       "      <td>3</td>\n",
       "      <td>3</td>\n",
       "      <td>Brown</td>\n",
       "      <td>Female</td>\n",
       "    </tr>\n",
       "    <tr>\n",
       "      <th>3</th>\n",
       "      <td>Persian</td>\n",
       "      <td>13</td>\n",
       "      <td>6</td>\n",
       "      <td>Sable</td>\n",
       "      <td>Female</td>\n",
       "    </tr>\n",
       "    <tr>\n",
       "      <th>4</th>\n",
       "      <td>Ragdoll</td>\n",
       "      <td>10</td>\n",
       "      <td>8</td>\n",
       "      <td>Tabby</td>\n",
       "      <td>Male</td>\n",
       "    </tr>\n",
       "  </tbody>\n",
       "</table>\n",
       "</div>"
      ],
      "text/plain": [
       "              Breed  Age (Years)  Weight (kg)          Color  Gender\n",
       "0      Russian Blue           19            7  Tortoiseshell  Female\n",
       "1  Norwegian Forest           19            9  Tortoiseshell  Female\n",
       "2         Chartreux            3            3          Brown  Female\n",
       "3           Persian           13            6          Sable  Female\n",
       "4           Ragdoll           10            8          Tabby    Male"
      ]
     },
     "execution_count": 6,
     "metadata": {},
     "output_type": "execute_result"
    }
   ],
   "source": [
    "df_tratado = df.drop_duplicates()\n",
    "df_tratado.reset_index(inplace=True, drop=True)\n",
    "df_tratado.head()"
   ]
  },
  {
   "cell_type": "markdown",
   "id": "e7979e2c-fb9c-4e07-a5e3-dd4cdf71c554",
   "metadata": {},
   "source": [
    "## Verificando variáveis categoricas"
   ]
  },
  {
   "cell_type": "code",
   "execution_count": 7,
   "id": "107ccda9-27ee-44f4-9732-cd08733871ff",
   "metadata": {
    "scrolled": true
   },
   "outputs": [
    {
     "data": {
      "text/plain": [
       "array(['Russian Blue', 'Norwegian Forest', 'Chartreux', 'Persian',\n",
       "       'Ragdoll', 'Ocicat', 'Abyssinian', 'Oriental', 'Egyptian Mau',\n",
       "       'American Shorthair', 'Bengal', 'Cornish Rex', 'British Shorthair',\n",
       "       'Burmese', 'Singapura', 'Maine Coon', 'Turkish Angora',\n",
       "       'Himalayan', 'Sphynx', 'Manx', 'Siberian', 'Birman', 'Balinese',\n",
       "       'Devon Rex', 'Exotic Shorthair', 'Scottish Fold', 'Savannah',\n",
       "       'Munchkin', 'Siamese', 'Tonkinese'], dtype=object)"
      ]
     },
     "execution_count": 7,
     "metadata": {},
     "output_type": "execute_result"
    }
   ],
   "source": [
    "df_tratado['Breed'].unique()"
   ]
  },
  {
   "cell_type": "code",
   "execution_count": 8,
   "id": "1b3ff2cc-8740-4182-aba6-5b77cbbd1510",
   "metadata": {},
   "outputs": [
    {
     "data": {
      "text/plain": [
       "array(['Tortoiseshell', 'Brown', 'Sable', 'Tabby', 'Blue', 'Calico',\n",
       "       'White', 'Black', 'Pointed', 'Red', 'Tricolor', 'Cream', 'Orange',\n",
       "       'Gray', 'Bicolor'], dtype=object)"
      ]
     },
     "execution_count": 8,
     "metadata": {},
     "output_type": "execute_result"
    }
   ],
   "source": [
    "df_tratado['Color'].unique()"
   ]
  },
  {
   "cell_type": "code",
   "execution_count": 11,
   "id": "bdd7d9cb-d9fe-4773-9dab-892d201b42c7",
   "metadata": {},
   "outputs": [
    {
     "data": {
      "text/plain": [
       "array(['Female', 'Male'], dtype=object)"
      ]
     },
     "execution_count": 11,
     "metadata": {},
     "output_type": "execute_result"
    }
   ],
   "source": [
    "df_tratado['Gender'].unique()"
   ]
  },
  {
   "cell_type": "markdown",
   "id": "58478a24-82b8-4da1-bd16-677d6bad37a4",
   "metadata": {},
   "source": [
    "## Exportar Dados Limpos"
   ]
  },
  {
   "cell_type": "code",
   "execution_count": 16,
   "id": "c1a1e32d-44fb-4dc0-95e5-bf84af0a1135",
   "metadata": {},
   "outputs": [],
   "source": [
    "# df_tratado.to_csv('.\\eda_cats\\datasets\\cats_limpo.csv', index=False)"
   ]
  }
 ],
 "metadata": {
  "kernelspec": {
   "display_name": "Python 3 (ipykernel)",
   "language": "python",
   "name": "python3"
  },
  "language_info": {
   "codemirror_mode": {
    "name": "ipython",
    "version": 3
   },
   "file_extension": ".py",
   "mimetype": "text/x-python",
   "name": "python",
   "nbconvert_exporter": "python",
   "pygments_lexer": "ipython3",
   "version": "3.12.4"
  }
 },
 "nbformat": 4,
 "nbformat_minor": 5
}
